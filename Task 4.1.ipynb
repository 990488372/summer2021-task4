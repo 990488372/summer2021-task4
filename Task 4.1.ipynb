{
 "cells": [
  {
   "cell_type": "code",
   "execution_count": 2,
   "metadata": {},
   "outputs": [],
   "source": [
    "import cv2\n",
    "import numpy as np\n",
    "import random\n",
    "import matplotlib.pyplot as plot"
   ]
  },
  {
   "cell_type": "code",
   "execution_count": 6,
   "metadata": {},
   "outputs": [
    {
     "name": "stdout",
     "output_type": "stream",
     "text": [
      "1\n"
     ]
    }
   ],
   "source": [
    "print(random.randint(0,9))"
   ]
  },
  {
   "cell_type": "code",
   "execution_count": 7,
   "metadata": {},
   "outputs": [
    {
     "name": "stdout",
     "output_type": "stream",
     "text": [
      "Enter the size of the image: 1000 500\n",
      "1000\n",
      "500\n"
     ]
    }
   ],
   "source": [
    "rw, cl = input(\"Enter the size of the image: \").split()\n",
    "rw = int(rw)\n",
    "cl = int(cl)\n",
    "print(rw)\n",
    "print(cl)"
   ]
  },
  {
   "cell_type": "code",
   "execution_count": 8,
   "metadata": {},
   "outputs": [
    {
     "name": "stdout",
     "output_type": "stream",
     "text": [
      "[[[248.  57.  43.]\n",
      "  [ 33.  43.  76.]\n",
      "  [136. 132.  26.]\n",
      "  ...\n",
      "  [226. 169. 187.]\n",
      "  [157. 216. 189.]\n",
      "  [106. 143. 111.]]\n",
      "\n",
      " [[240. 140.  65.]\n",
      "  [207. 214. 155.]\n",
      "  [ 57.  77.   5.]\n",
      "  ...\n",
      "  [ 47.  33.  96.]\n",
      "  [214. 223. 174.]\n",
      "  [181. 157.   0.]]\n",
      "\n",
      " [[  5.   9.   5.]\n",
      "  [188. 246. 218.]\n",
      "  [ 93. 205.  36.]\n",
      "  ...\n",
      "  [199.  82.  75.]\n",
      "  [ 38. 197.  18.]\n",
      "  [121.  43. 230.]]\n",
      "\n",
      " ...\n",
      "\n",
      " [[245.  81. 200.]\n",
      "  [187. 231. 233.]\n",
      "  [ 38.  96. 144.]\n",
      "  ...\n",
      "  [ 90. 135. 167.]\n",
      "  [213. 145.  33.]\n",
      "  [130. 114.  97.]]\n",
      "\n",
      " [[127. 250.  63.]\n",
      "  [207. 153.  13.]\n",
      "  [  3.   1.  56.]\n",
      "  ...\n",
      "  [252. 212.  34.]\n",
      "  [231. 158. 194.]\n",
      "  [ 38. 243. 197.]]\n",
      "\n",
      " [[185. 194. 101.]\n",
      "  [ 57. 188. 162.]\n",
      "  [146. 228.  84.]\n",
      "  ...\n",
      "  [ 69.  72. 105.]\n",
      "  [184. 155. 230.]\n",
      "  [138. 226. 161.]]]\n",
      "<class 'numpy.ndarray'>\n"
     ]
    }
   ],
   "source": [
    "custom_image = np.random.randint(0, 255, (cl, rw, 3))\n",
    "custom_image = custom_image.astype(float)\n",
    "print(custom_image)\n",
    "print(type(custom_image))"
   ]
  },
  {
   "cell_type": "code",
   "execution_count": 9,
   "metadata": {},
   "outputs": [
    {
     "data": {
      "text/plain": [
       "(500, 1000, 3)"
      ]
     },
     "execution_count": 9,
     "metadata": {},
     "output_type": "execute_result"
    }
   ],
   "source": [
    "custom_image.shape"
   ]
  },
  {
   "cell_type": "code",
   "execution_count": 10,
   "metadata": {},
   "outputs": [],
   "source": [
    "cv2.imshow(\"Custom Created Image\", custom_image)\n",
    "cv2.waitKey(0) == 13\n",
    "cv2.destroyAllWindows()"
   ]
  },
  {
   "cell_type": "code",
   "execution_count": 11,
   "metadata": {},
   "outputs": [
    {
     "data": {
      "text/plain": [
       "True"
      ]
     },
     "execution_count": 11,
     "metadata": {},
     "output_type": "execute_result"
    }
   ],
   "source": [
    "cv2.imwrite(\"CustomImage.jpg\",custom_image)"
   ]
  },
  {
   "cell_type": "code",
   "execution_count": null,
   "metadata": {},
   "outputs": [],
   "source": []
  }
 ],
 "metadata": {
  "kernelspec": {
   "display_name": "Python 3",
   "language": "python",
   "name": "python3"
  },
  "language_info": {
   "codemirror_mode": {
    "name": "ipython",
    "version": 3
   },
   "file_extension": ".py",
   "mimetype": "text/x-python",
   "name": "python",
   "nbconvert_exporter": "python",
   "pygments_lexer": "ipython3",
   "version": "3.8.3"
  }
 },
 "nbformat": 4,
 "nbformat_minor": 4
}
